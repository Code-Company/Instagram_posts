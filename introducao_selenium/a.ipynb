{
 "cells": [
  {
   "cell_type": "code",
   "execution_count": null,
   "metadata": {},
   "outputs": [],
   "source": [
    "#Primeiro importamos as bibliotecas\n",
    "from selenium import webdriver\n",
    "from selenium.webdriver.common.by import By\n",
    "from webdriver_manager.chrome import ChromeDriverManager\n",
    "import time"
   ]
  },
  {
   "cell_type": "code",
   "execution_count": null,
   "metadata": {},
   "outputs": [],
   "source": [
    "#Depois setamos o webdriver e passamos como parametro nosso chrome driver\n",
    "#Que nesse caso se instala automaticamente por causa da biblioteca webdriver_manager\n",
    "driver = webdriver.Chrome(ChromeDriverManager().install())"
   ]
  },
  {
   "cell_type": "code",
   "execution_count": null,
   "metadata": {},
   "outputs": [],
   "source": [
    "#Entramos no link desejado\n",
    "driver.get(\"https://www.climatempo.com.br/\")\n",
    "\n",
    "#É importante dar um sleep de alguns segundos para o navegador carregar o conteúdo\n",
    "time.sleep(5)"
   ]
  },
  {
   "cell_type": "code",
   "execution_count": null,
   "metadata": {},
   "outputs": [],
   "source": [
    "#Pegamos o tempo pelo id do elemento\n",
    "tempo = driver.find_element(By.ID, \"current-weather-temperature\")\n",
    "\n",
    "print(f\"Hoje o tempo é de {tempo.text} graus\")"
   ]
  }
 ],
 "metadata": {
  "kernelspec": {
   "display_name": "Python 3.10.8 64-bit (microsoft store)",
   "language": "python",
   "name": "python3"
  },
  "language_info": {
   "name": "python",
   "version": "3.10.8"
  },
  "orig_nbformat": 4,
  "vscode": {
   "interpreter": {
    "hash": "1fc7b7a176db3329f52da62e4e2d2cab140d2b6f78b1a954152cec5b193d1ca3"
   }
  }
 },
 "nbformat": 4,
 "nbformat_minor": 2
}
