{
 "cells": [
  {
   "cell_type": "code",
   "execution_count": 1,
   "id": "ddfaa566",
   "metadata": {},
   "outputs": [],
   "source": [
    "#Primeiro importamos a biblioteca Tabula\n",
    "import tabula"
   ]
  },
  {
   "cell_type": "code",
   "execution_count": 2,
   "id": "d8406513",
   "metadata": {},
   "outputs": [],
   "source": [
    "#Então extraimos as colunas do pdf\n",
    "reader_pdf = tabula.read_pdf(\"faturamento.pdf\", pages=\"all\")\n",
    "\n",
    "#O indice serve para dizer qual tabela do PDF você quer ler\n",
    "tabela_dados = reader_pdf[0]\n",
    "tabela_faturamento = reader_pdf[1]\n",
    "\n",
    "#O retorno é um DataFrame do pandas com a tabela desejada"
   ]
  },
  {
   "cell_type": "code",
   "execution_count": 3,
   "id": "a5bbb878",
   "metadata": {},
   "outputs": [
    {
     "name": "stdout",
     "output_type": "stream",
     "text": [
      "Encontrei 2 tabelas no PDF\n"
     ]
    },
    {
     "data": {
      "text/html": [
       "<div>\n",
       "<style scoped>\n",
       "    .dataframe tbody tr th:only-of-type {\n",
       "        vertical-align: middle;\n",
       "    }\n",
       "\n",
       "    .dataframe tbody tr th {\n",
       "        vertical-align: top;\n",
       "    }\n",
       "\n",
       "    .dataframe thead th {\n",
       "        text-align: right;\n",
       "    }\n",
       "</style>\n",
       "<table border=\"1\" class=\"dataframe\">\n",
       "  <thead>\n",
       "    <tr style=\"text-align: right;\">\n",
       "      <th></th>\n",
       "      <th>Nome</th>\n",
       "      <th>Preço</th>\n",
       "      <th>Sabor</th>\n",
       "      <th>Cor</th>\n",
       "      <th>Média de vendas</th>\n",
       "    </tr>\n",
       "  </thead>\n",
       "  <tbody>\n",
       "    <tr>\n",
       "      <th>0</th>\n",
       "      <td>Tublito</td>\n",
       "      <td>R$ 5,00</td>\n",
       "      <td>Chocolate</td>\n",
       "      <td>Branco</td>\n",
       "      <td>100%</td>\n",
       "    </tr>\n",
       "    <tr>\n",
       "      <th>1</th>\n",
       "      <td>Choco bueno</td>\n",
       "      <td>R$ 6,00</td>\n",
       "      <td>Chocolate</td>\n",
       "      <td>Preto</td>\n",
       "      <td>0%</td>\n",
       "    </tr>\n",
       "    <tr>\n",
       "      <th>2</th>\n",
       "      <td>Uva Nature</td>\n",
       "      <td>R$ 5,50</td>\n",
       "      <td>Uva</td>\n",
       "      <td>Roxo</td>\n",
       "      <td>0%</td>\n",
       "    </tr>\n",
       "  </tbody>\n",
       "</table>\n",
       "</div>"
      ],
      "text/plain": [
       "          Nome    Preço      Sabor     Cor Média de vendas\n",
       "0      Tublito  R$ 5,00  Chocolate  Branco            100%\n",
       "1  Choco bueno  R$ 6,00  Chocolate   Preto              0%\n",
       "2   Uva Nature  R$ 5,50        Uva    Roxo              0%"
      ]
     },
     "metadata": {},
     "output_type": "display_data"
    }
   ],
   "source": [
    "print(f\"Encontrei {len(reader_pdf)} tabelas no PDF\")\n",
    "\n",
    "#Perceba que nesse caso temos uma saída limpa, ou seja,\n",
    "#o programa conseguiu indentificar corretamente todas as colunas e valores\n",
    "display(tabela_dados)"
   ]
  },
  {
   "cell_type": "code",
   "execution_count": 4,
   "id": "a2b9b1f0",
   "metadata": {},
   "outputs": [
    {
     "data": {
      "text/html": [
       "<div>\n",
       "<style scoped>\n",
       "    .dataframe tbody tr th:only-of-type {\n",
       "        vertical-align: middle;\n",
       "    }\n",
       "\n",
       "    .dataframe tbody tr th {\n",
       "        vertical-align: top;\n",
       "    }\n",
       "\n",
       "    .dataframe thead th {\n",
       "        text-align: right;\n",
       "    }\n",
       "</style>\n",
       "<table border=\"1\" class=\"dataframe\">\n",
       "  <thead>\n",
       "    <tr style=\"text-align: right;\">\n",
       "      <th></th>\n",
       "      <th>Mês</th>\n",
       "      <th>Faturamento</th>\n",
       "      <th>Vendas</th>\n",
       "      <th>Unnamed: 0</th>\n",
       "    </tr>\n",
       "  </thead>\n",
       "  <tbody>\n",
       "    <tr>\n",
       "      <th>0</th>\n",
       "      <td>Janeiro</td>\n",
       "      <td>R$ 110,00</td>\n",
       "      <td>NaN</td>\n",
       "      <td>22</td>\n",
       "    </tr>\n",
       "    <tr>\n",
       "      <th>1</th>\n",
       "      <td>Fevereiro</td>\n",
       "      <td>R$ 75,00</td>\n",
       "      <td>NaN</td>\n",
       "      <td>15</td>\n",
       "    </tr>\n",
       "    <tr>\n",
       "      <th>2</th>\n",
       "      <td>Março</td>\n",
       "      <td>R$ 130,00</td>\n",
       "      <td>NaN</td>\n",
       "      <td>26</td>\n",
       "    </tr>\n",
       "    <tr>\n",
       "      <th>3</th>\n",
       "      <td>Abril</td>\n",
       "      <td>R$ 150,00</td>\n",
       "      <td>NaN</td>\n",
       "      <td>30</td>\n",
       "    </tr>\n",
       "  </tbody>\n",
       "</table>\n",
       "</div>"
      ],
      "text/plain": [
       "         Mês Faturamento  Vendas  Unnamed: 0\n",
       "0    Janeiro   R$ 110,00     NaN          22\n",
       "1  Fevereiro    R$ 75,00     NaN          15\n",
       "2      Março   R$ 130,00     NaN          26\n",
       "3      Abril   R$ 150,00     NaN          30"
      ]
     },
     "metadata": {},
     "output_type": "display_data"
    }
   ],
   "source": [
    "#Agora vamos ver um caso onde o programa não lê 100% certinho!\n",
    "#Perceba que a tabela vendas ficou vazia, e o seus dados foram parar na tabela Unnamed: 0!\n",
    "display(tabela_faturamento)"
   ]
  },
  {
   "cell_type": "code",
   "execution_count": 5,
   "id": "7ff8d1eb",
   "metadata": {},
   "outputs": [
    {
     "data": {
      "text/html": [
       "<div>\n",
       "<style scoped>\n",
       "    .dataframe tbody tr th:only-of-type {\n",
       "        vertical-align: middle;\n",
       "    }\n",
       "\n",
       "    .dataframe tbody tr th {\n",
       "        vertical-align: top;\n",
       "    }\n",
       "\n",
       "    .dataframe thead th {\n",
       "        text-align: right;\n",
       "    }\n",
       "</style>\n",
       "<table border=\"1\" class=\"dataframe\">\n",
       "  <thead>\n",
       "    <tr style=\"text-align: right;\">\n",
       "      <th></th>\n",
       "      <th>Mês</th>\n",
       "      <th>Faturamento</th>\n",
       "      <th>Vendas</th>\n",
       "    </tr>\n",
       "  </thead>\n",
       "  <tbody>\n",
       "    <tr>\n",
       "      <th>0</th>\n",
       "      <td>Janeiro</td>\n",
       "      <td>R$ 110,00</td>\n",
       "      <td>22</td>\n",
       "    </tr>\n",
       "    <tr>\n",
       "      <th>1</th>\n",
       "      <td>Fevereiro</td>\n",
       "      <td>R$ 75,00</td>\n",
       "      <td>15</td>\n",
       "    </tr>\n",
       "    <tr>\n",
       "      <th>2</th>\n",
       "      <td>Março</td>\n",
       "      <td>R$ 130,00</td>\n",
       "      <td>26</td>\n",
       "    </tr>\n",
       "    <tr>\n",
       "      <th>3</th>\n",
       "      <td>Abril</td>\n",
       "      <td>R$ 150,00</td>\n",
       "      <td>30</td>\n",
       "    </tr>\n",
       "  </tbody>\n",
       "</table>\n",
       "</div>"
      ],
      "text/plain": [
       "         Mês Faturamento  Vendas\n",
       "0    Janeiro   R$ 110,00      22\n",
       "1  Fevereiro    R$ 75,00      15\n",
       "2      Março   R$ 130,00      26\n",
       "3      Abril   R$ 150,00      30"
      ]
     },
     "metadata": {},
     "output_type": "display_data"
    }
   ],
   "source": [
    "#Para corrigir o erro, vou especificar as colunas que eu quero no DataFrame, para retirar Vendas da equação.\n",
    "tabela_faturamento = tabela_faturamento[[\"Mês\", \"Faturamento\", \"Unnamed: 0\"]]\n",
    "\n",
    "#Depois disso renomeamos Unnamed: 0 para Vendas.\n",
    "tabela_faturamento = tabela_faturamento.rename(columns={\"Unnamed: 0\": \"Vendas\"})\n",
    "\n",
    "#Pronto! Tabela corrigida, agora é só exportar para .csv\n",
    "display(tabela_faturamento)"
   ]
  },
  {
   "cell_type": "code",
   "execution_count": 6,
   "id": "fd8cfbad",
   "metadata": {},
   "outputs": [],
   "source": [
    "#Então é só exportar para um .csv!\n",
    "tabela_dados.to_csv('tabela_dados.csv', index=False, sep=\";\")\n",
    "tabela_faturamento.to_csv('tabela_faturamento.csv', index=False, sep=\";\")"
   ]
  }
 ],
 "metadata": {
  "kernelspec": {
   "display_name": "Python 3 (ipykernel)",
   "language": "python",
   "name": "python3"
  },
  "language_info": {
   "codemirror_mode": {
    "name": "ipython",
    "version": 3
   },
   "file_extension": ".py",
   "mimetype": "text/x-python",
   "name": "python",
   "nbconvert_exporter": "python",
   "pygments_lexer": "ipython3",
   "version": "3.9.12"
  }
 },
 "nbformat": 4,
 "nbformat_minor": 5
}
